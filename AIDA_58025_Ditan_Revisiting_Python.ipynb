{
  "nbformat": 4,
  "nbformat_minor": 0,
  "metadata": {
    "colab": {
      "name": "AIDA 58025 Ditan - Revisiting Python.ipynb",
      "provenance": [],
      "collapsed_sections": [],
      "authorship_tag": "ABX9TyM5VApYmyA+bMKwwTNjoUcb",
      "include_colab_link": true
    },
    "kernelspec": {
      "name": "python3",
      "display_name": "Python 3"
    }
  },
  "cells": [
    {
      "cell_type": "markdown",
      "metadata": {
        "id": "view-in-github",
        "colab_type": "text"
      },
      "source": [
        "<a href=\"https://colab.research.google.com/github/luigiditan/AI/blob/main/AIDA_58025_Ditan_Revisiting_Python.ipynb\" target=\"_parent\"><img src=\"https://colab.research.google.com/assets/colab-badge.svg\" alt=\"Open In Colab\"/></a>"
      ]
    },
    {
      "cell_type": "code",
      "metadata": {
        "id": "hdJ2PV4D5znP"
      },
      "source": [
        ""
      ],
      "execution_count": null,
      "outputs": []
    },
    {
      "cell_type": "markdown",
      "metadata": {
        "id": "fm36-l4d71TW"
      },
      "source": [
        "#Revisiting Python\r\n",
        " L.S. Ditan (2021)"
      ]
    },
    {
      "cell_type": "markdown",
      "metadata": {
        "id": "qmA3_I6-8M1t"
      },
      "source": [
        ""
      ]
    },
    {
      "cell_type": "markdown",
      "metadata": {
        "id": "fCbeQTEL8R89"
      },
      "source": [
        "##Part 1: Programming Logic & Design\r\n",
        "\r\n",
        "In this section. we will revisit Programming Logic and Design using python\r\n"
      ]
    },
    {
      "cell_type": "markdown",
      "metadata": {
        "id": "Xm1-JidQ8uF9"
      },
      "source": [
        " ###1.1 Variables and Printing Values"
      ]
    },
    {
      "cell_type": "code",
      "metadata": {
        "colab": {
          "base_uri": "https://localhost:8080/"
        },
        "id": "z1XNwXvT86Mi",
        "outputId": "affe2ccf-c6a8-452d-c65c-5518e7f44d92"
      },
      "source": [
        "#This is a C++ line of code\r\n",
        "#int x=2;\r\n",
        "#Now this is a python line of code\r\n",
        "x=2\r\n",
        "print(x)\r\n",
        "# print (type(x))\r\n",
        "#print (\"the data type of x is \", type(x),\"and its value is,\"x,\".\")\r\n",
        "print (f\"the data type of x is{type(x)} and its value is {x}.\")"
      ],
      "execution_count": null,
      "outputs": [
        {
          "output_type": "stream",
          "text": [
            "2\n",
            "the data type of x is<class 'int'> and its value is 2.\n"
          ],
          "name": "stdout"
        }
      ]
    }
  ]
}